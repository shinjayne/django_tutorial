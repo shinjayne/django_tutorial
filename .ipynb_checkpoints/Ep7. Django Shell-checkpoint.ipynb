{
 "cells": [
  {
   "cell_type": "markdown",
   "metadata": {},
   "source": [
    "# Launch Django Shell with Jupyter Notebook \n",
    "\n",
    "### 1. install django extension. \n",
    "`pip3 install django_extensions` \n",
    "\n",
    "### 2. Add \"django_extensions\" in INSTALLED_APPS in settings.py \n",
    "\n",
    "### 3. Launch : \n",
    "`python manage.py shell_plus --notebook` "
   ]
  },
  {
   "cell_type": "code",
   "execution_count": null,
   "metadata": {
    "collapsed": true
   },
   "outputs": [],
   "source": []
  },
  {
   "cell_type": "code",
   "execution_count": null,
   "metadata": {
    "collapsed": true
   },
   "outputs": [],
   "source": []
  }
 ],
 "metadata": {
  "kernelspec": {
   "display_name": "Django Shell-Plus",
   "language": "python",
   "name": "django_extensions"
  },
  "language_info": {
   "codemirror_mode": {
    "name": "ipython",
    "version": 3
   },
   "file_extension": ".py",
   "mimetype": "text/x-python",
   "name": "python",
   "nbconvert_exporter": "python",
   "pygments_lexer": "ipython3",
   "version": "3.5.2"
  }
 },
 "nbformat": 4,
 "nbformat_minor": 2
}
